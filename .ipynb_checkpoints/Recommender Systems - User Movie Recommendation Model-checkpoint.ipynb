{
 "cells": [
  {
   "cell_type": "markdown",
   "id": "72b59729",
   "metadata": {},
   "source": [
    "# Problem Statement"
   ]
  },
  {
   "cell_type": "markdown",
   "id": "635fc73a",
   "metadata": {},
   "source": [
    "Consider the ratings dataset below, containig the data on: UserID, MovieID, Rating and Timestamp.Each line of this file represents one rating of one movie by one user, and has the following format:\n",
    "UserID::MovieID::Rating::Timestamp\n",
    "\n",
    "Ratings are made on a 5 star scale with half star increments.\n",
    "UserID represents the ID of the user, movieID represents the ID of the movie, ant Timestamps represents seconds from midnight coordinated universal time or UTC of January 1, 1970."
   ]
  },
  {
   "cell_type": "code",
   "execution_count": 4,
   "id": "f0d3421c",
   "metadata": {},
   "outputs": [],
   "source": [
    "import pandas as pd\n",
    "import numpy as np"
   ]
  },
  {
   "cell_type": "code",
   "execution_count": 5,
   "id": "bdb4a93b",
   "metadata": {},
   "outputs": [],
   "source": [
    "df = pd.read_csv('Datasets/Recommend.csv')"
   ]
  },
  {
   "cell_type": "code",
   "execution_count": 6,
   "id": "8087573c",
   "metadata": {},
   "outputs": [
    {
     "data": {
      "text/html": [
       "<div>\n",
       "<style scoped>\n",
       "    .dataframe tbody tr th:only-of-type {\n",
       "        vertical-align: middle;\n",
       "    }\n",
       "\n",
       "    .dataframe tbody tr th {\n",
       "        vertical-align: top;\n",
       "    }\n",
       "\n",
       "    .dataframe thead th {\n",
       "        text-align: right;\n",
       "    }\n",
       "</style>\n",
       "<table border=\"1\" class=\"dataframe\">\n",
       "  <thead>\n",
       "    <tr style=\"text-align: right;\">\n",
       "      <th></th>\n",
       "      <th>user_id</th>\n",
       "      <th>movie_id</th>\n",
       "      <th>rating</th>\n",
       "      <th>timestamp</th>\n",
       "    </tr>\n",
       "  </thead>\n",
       "  <tbody>\n",
       "    <tr>\n",
       "      <th>0</th>\n",
       "      <td>186</td>\n",
       "      <td>302</td>\n",
       "      <td>3</td>\n",
       "      <td>891717742</td>\n",
       "    </tr>\n",
       "    <tr>\n",
       "      <th>1</th>\n",
       "      <td>22</td>\n",
       "      <td>377</td>\n",
       "      <td>1</td>\n",
       "      <td>878887116</td>\n",
       "    </tr>\n",
       "    <tr>\n",
       "      <th>2</th>\n",
       "      <td>244</td>\n",
       "      <td>51</td>\n",
       "      <td>2</td>\n",
       "      <td>880606923</td>\n",
       "    </tr>\n",
       "    <tr>\n",
       "      <th>3</th>\n",
       "      <td>166</td>\n",
       "      <td>346</td>\n",
       "      <td>1</td>\n",
       "      <td>886397596</td>\n",
       "    </tr>\n",
       "    <tr>\n",
       "      <th>4</th>\n",
       "      <td>298</td>\n",
       "      <td>474</td>\n",
       "      <td>4</td>\n",
       "      <td>884182806</td>\n",
       "    </tr>\n",
       "  </tbody>\n",
       "</table>\n",
       "</div>"
      ],
      "text/plain": [
       "   user_id  movie_id  rating  timestamp\n",
       "0      186       302       3  891717742\n",
       "1       22       377       1  878887116\n",
       "2      244        51       2  880606923\n",
       "3      166       346       1  886397596\n",
       "4      298       474       4  884182806"
      ]
     },
     "execution_count": 6,
     "metadata": {},
     "output_type": "execute_result"
    }
   ],
   "source": [
    "df.head()"
   ]
  },
  {
   "cell_type": "code",
   "execution_count": 22,
   "id": "c2b0a007",
   "metadata": {},
   "outputs": [],
   "source": [
    "from sklearn.model_selection import train_test_split\n",
    "n_users = df.user_id.unique().shape[0]\n",
    "n_movies = df.movie_id.unique().shape[0]\n",
    "train_data, test_data= train_test_split(df, test_size = 0.25)"
   ]
  },
  {
   "cell_type": "code",
   "execution_count": 23,
   "id": "507244c2",
   "metadata": {},
   "outputs": [
    {
     "data": {
      "text/plain": [
       "array([[5., 3., 4., ..., 0., 0., 0.],\n",
       "       [4., 0., 0., ..., 0., 0., 0.],\n",
       "       [0., 0., 0., ..., 0., 0., 0.],\n",
       "       ...,\n",
       "       [5., 0., 0., ..., 0., 0., 0.],\n",
       "       [0., 0., 0., ..., 0., 0., 0.],\n",
       "       [0., 5., 0., ..., 0., 0., 0.]])"
      ]
     },
     "execution_count": 23,
     "metadata": {},
     "output_type": "execute_result"
    }
   ],
   "source": [
    "train_data_matrix = np.zeros((n_users, n_movies))\n",
    "for line in train_data.itertuples():\n",
    "    train_data_matrix[line[1]-1, line[2]-1] = line[3]\n",
    "train_data_matrix"
   ]
  },
  {
   "cell_type": "code",
   "execution_count": 24,
   "id": "03d57e19",
   "metadata": {},
   "outputs": [
    {
     "data": {
      "text/plain": [
       "array([[0., 0., 0., ..., 0., 0., 0.],\n",
       "       [0., 0., 0., ..., 0., 0., 0.],\n",
       "       [0., 0., 0., ..., 0., 0., 0.],\n",
       "       ...,\n",
       "       [0., 0., 0., ..., 0., 0., 0.],\n",
       "       [0., 0., 0., ..., 0., 0., 0.],\n",
       "       [0., 0., 0., ..., 0., 0., 0.]])"
      ]
     },
     "execution_count": 24,
     "metadata": {},
     "output_type": "execute_result"
    }
   ],
   "source": [
    "test_data_matrix = np.zeros((n_users, n_movies))\n",
    "for line in test_data.itertuples():\n",
    "    test_data_matrix[line[1]-1, line[2]-1] = line[3]\n",
    "test_data_matrix"
   ]
  },
  {
   "cell_type": "code",
   "execution_count": 31,
   "id": "c3f67dce",
   "metadata": {},
   "outputs": [
    {
     "data": {
      "text/plain": [
       "array([[ 1.58164746,  0.58237709,  0.45590077, ...,  0.27326925,\n",
       "         0.27576026,  0.2755086 ],\n",
       "       [ 1.35560001,  0.34439134,  0.16257725, ..., -0.04878103,\n",
       "        -0.04543124, -0.0453361 ],\n",
       "       [ 1.35568451,  0.28693442,  0.11488228, ..., -0.10002496,\n",
       "        -0.0968305 , -0.09669711],\n",
       "       ...,\n",
       "       [ 1.2046634 ,  0.24468641,  0.07031219, ..., -0.12875854,\n",
       "        -0.12565362, -0.12558123],\n",
       "       [ 1.37981417,  0.33770748,  0.19378923, ..., -0.01486955,\n",
       "        -0.0122441 , -0.01176152],\n",
       "       [ 1.45161353,  0.42158608,  0.30346566, ...,  0.11919125,\n",
       "         0.12164975,  0.12173321]])"
      ]
     },
     "execution_count": 31,
     "metadata": {},
     "output_type": "execute_result"
    }
   ],
   "source": [
    "from sklearn.metrics import pairwise_distances\n",
    "user_similarity = pairwise_distances(train_data_matrix, metric = 'cosine')\n",
    "movie_similarity = pairwise_distances(train_data_matrix.T, metric = 'cosine')\n",
    "mean_user_rating = train_data_matrix.mean(axis=1)[:, np.newaxis]\n",
    "ratings_diff = (train_data_matrix - mean_user_rating)\n",
    "user_pred = mean_user_rating + user_similarity.dot(ratings_diff)/np.array([np.abs(user_similarity).\n",
    "                                                                            sum(axis=1)]).T\n",
    "\n",
    "user_pred\n",
    "\n"
   ]
  },
  {
   "cell_type": "markdown",
   "id": "af451210",
   "metadata": {},
   "source": [
    "# Quick Recap"
   ]
  },
  {
   "cell_type": "markdown",
   "id": "0363ccb9",
   "metadata": {},
   "source": [
    "1 - Import Libraries and the dataset\n",
    "\n",
    "2 - Identify total number of users and movies\n",
    "\n",
    "3 - Split the data into training and testing sets\n",
    "\n",
    "4 - Populate the train test matrices with random ratings\n",
    "\n",
    "5 - Create cosine similarity matrices for users and movies\n",
    "\n",
    "6 - Perform predictions"
   ]
  }
 ],
 "metadata": {
  "kernelspec": {
   "display_name": "Python 3 (ipykernel)",
   "language": "python",
   "name": "python3"
  },
  "language_info": {
   "codemirror_mode": {
    "name": "ipython",
    "version": 3
   },
   "file_extension": ".py",
   "mimetype": "text/x-python",
   "name": "python",
   "nbconvert_exporter": "python",
   "pygments_lexer": "ipython3",
   "version": "3.11.4"
  }
 },
 "nbformat": 4,
 "nbformat_minor": 5
}
